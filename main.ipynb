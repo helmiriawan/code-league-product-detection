{
  "nbformat": 4,
  "nbformat_minor": 0,
  "metadata": {
    "colab": {
      "name": "main.ipynb",
      "provenance": [],
      "private_outputs": true,
      "collapsed_sections": []
    },
    "kernelspec": {
      "name": "python3",
      "display_name": "Python 3"
    },
    "accelerator": "GPU"
  },
  "cells": [
    {
      "cell_type": "code",
      "metadata": {
        "id": "6bo9Wpx8Nb5H",
        "colab_type": "code",
        "colab": {}
      },
      "source": [
        "import os, shutil\n",
        "import numpy as np\n",
        "import pandas as pd\n",
        "import tensorflow as tf\n",
        "import matplotlib.pyplot as plt\n",
        "\n",
        "from random import shuffle\n",
        "from zipfile import ZipFile\n",
        "from datetime import datetime\n",
        "from google.colab import drive, files\n",
        "from tensorflow.keras import layers\n",
        "from tensorflow.keras.models import Sequential\n",
        "from tensorflow.keras.preprocessing.image import ImageDataGenerator"
      ],
      "execution_count": null,
      "outputs": []
    },
    {
      "cell_type": "markdown",
      "metadata": {
        "id": "no0QsCnyPSoj",
        "colab_type": "text"
      },
      "source": [
        "# Data Understanding"
      ]
    },
    {
      "cell_type": "code",
      "metadata": {
        "id": "WyhouY1K1Icx",
        "colab_type": "code",
        "colab": {}
      },
      "source": [
        "# Import the dataset\n",
        "zipfile = 'gdrive/My Drive/shopee/shopee-product-detection-dataset-002.zip'\n",
        "destination = 'dataset/'\n",
        "drive.mount('/content/gdrive')"
      ],
      "execution_count": null,
      "outputs": []
    },
    {
      "cell_type": "code",
      "metadata": {
        "id": "E85ncu_81I5X",
        "colab_type": "code",
        "colab": {}
      },
      "source": [
        "# Unzip the dataset\n",
        "before = datetime.now()\n",
        "with ZipFile(zipfile, 'r') as zipObj:\n",
        "    print(\"Unzipping\")\n",
        "    zipObj.extractall(destination)\n",
        "after = datetime.now()\n",
        "print('Done in', after-before)"
      ],
      "execution_count": null,
      "outputs": []
    },
    {
      "cell_type": "code",
      "metadata": {
        "id": "BUxD50ODcBFf",
        "colab_type": "code",
        "colab": {}
      },
      "source": [
        "# Specify path to the dataset\n",
        "train_dir = 'dataset/train/train/'\n",
        "validation_dir = 'dataset/validation/validation/'\n",
        "test_dir = 'dataset/test/'"
      ],
      "execution_count": null,
      "outputs": []
    },
    {
      "cell_type": "code",
      "metadata": {
        "id": "MjxL_TzseDg0",
        "colab_type": "code",
        "colab": {}
      },
      "source": [
        "# Create directory for validation data\n",
        "os.mkdir(os.path.dirname(validation_dir[:-1]))\n",
        "os.mkdir(validation_dir)"
      ],
      "execution_count": null,
      "outputs": []
    },
    {
      "cell_type": "code",
      "metadata": {
        "id": "qeWkT1Q4dl-N",
        "colab_type": "code",
        "colab": {}
      },
      "source": [
        "# Split training and validation set\n",
        "for category in os.listdir(train_dir):\n",
        "\n",
        "    # Create new directory for each category\n",
        "    os.mkdir(validation_dir + category)\n",
        "\n",
        "    # Count number of images per category\n",
        "    filenames = os.listdir(train_dir + category)\n",
        "    total = len(filenames)\n",
        "    fraction = int(total * 0.1)\n",
        "\n",
        "    # Move files randomly to validation set\n",
        "    shuffle(filenames)\n",
        "    for filename in filenames[:fraction]:\n",
        "        shutil.move(\n",
        "            train_dir + category + '/' + filename, \n",
        "            validation_dir + category + '/' + filename\n",
        "        )"
      ],
      "execution_count": null,
      "outputs": []
    },
    {
      "cell_type": "code",
      "metadata": {
        "id": "oBVM4OTo9VvX",
        "colab_type": "code",
        "colab": {}
      },
      "source": [
        "# Function to count number of images\n",
        "def count_images(location):\n",
        "    counter = 0\n",
        "    for path, subdirs, files in os.walk(location):\n",
        "        for name in files:\n",
        "            if name.endswith(\".jpg\"):\n",
        "                counter = counter + 1\n",
        "    \n",
        "    return(counter)"
      ],
      "execution_count": null,
      "outputs": []
    },
    {
      "cell_type": "code",
      "metadata": {
        "id": "GxxEnrgW9Wzn",
        "colab_type": "code",
        "colab": {}
      },
      "source": [
        "# Count number of images\n",
        "total_train = count_images(train_dir)\n",
        "total_validation = count_images(validation_dir)\n",
        "\n",
        "print(\"Total training images:\", total_train)\n",
        "print(\"Total validation images:\", total_validation)"
      ],
      "execution_count": null,
      "outputs": []
    },
    {
      "cell_type": "markdown",
      "metadata": {
        "id": "ExZEpRU2Pxjc",
        "colab_type": "text"
      },
      "source": [
        "## Data Preparation"
      ]
    },
    {
      "cell_type": "code",
      "metadata": {
        "id": "Dr349s_Lchu9",
        "colab_type": "code",
        "colab": {}
      },
      "source": [
        "# Specify hyperparameters\n",
        "batch_size = 128\n",
        "epochs = 5\n",
        "IMG_HEIGHT = 224\n",
        "IMG_WIDTH = 224"
      ],
      "execution_count": null,
      "outputs": []
    },
    {
      "cell_type": "code",
      "metadata": {
        "id": "-cTL12kBPwl7",
        "colab_type": "code",
        "colab": {}
      },
      "source": [
        "# Define image generator\n",
        "train_image_generator = ImageDataGenerator(rescale=1./255)\n",
        "validation_image_generator = ImageDataGenerator(rescale=1./255)\n",
        "test_image_generator = ImageDataGenerator(rescale=1./255)"
      ],
      "execution_count": null,
      "outputs": []
    },
    {
      "cell_type": "code",
      "metadata": {
        "id": "oasMGMP7P6uH",
        "colab_type": "code",
        "colab": {}
      },
      "source": [
        "# Define flow from the training data\n",
        "train_generator = train_image_generator.flow_from_directory(\n",
        "    batch_size=batch_size,\n",
        "    directory=train_dir,\n",
        "    shuffle=True,\n",
        "    target_size=(IMG_HEIGHT, IMG_WIDTH),\n",
        "    class_mode='categorical'\n",
        ")"
      ],
      "execution_count": null,
      "outputs": []
    },
    {
      "cell_type": "code",
      "metadata": {
        "id": "4ppY4qhMgnhT",
        "colab_type": "code",
        "colab": {}
      },
      "source": [
        "# Define flow from the validation data\n",
        "validation_generator = validation_image_generator.flow_from_directory(\n",
        "    batch_size=batch_size,\n",
        "    directory=validation_dir,\n",
        "    shuffle=False,\n",
        "    target_size=(IMG_HEIGHT, IMG_WIDTH),\n",
        "    class_mode='categorical'\n",
        ")"
      ],
      "execution_count": null,
      "outputs": []
    },
    {
      "cell_type": "code",
      "metadata": {
        "id": "dWzFbqcL2ZJY",
        "colab_type": "code",
        "colab": {}
      },
      "source": [
        "# Define flow from the test data\n",
        "test_generator = test_image_generator.flow_from_directory(\n",
        "    batch_size=batch_size,\n",
        "    directory=test_dir,\n",
        "    shuffle=False,\n",
        "    target_size=(IMG_HEIGHT, IMG_WIDTH),\n",
        "    class_mode='categorical'\n",
        ")"
      ],
      "execution_count": null,
      "outputs": []
    },
    {
      "cell_type": "markdown",
      "metadata": {
        "id": "ytFF5JxvQ2qr",
        "colab_type": "text"
      },
      "source": [
        "## Modeling"
      ]
    },
    {
      "cell_type": "code",
      "metadata": {
        "id": "7pavezM0-_0L",
        "colab_type": "code",
        "colab": {}
      },
      "source": [
        "# Create the base model from the pre-trained model MobileNet V2\n",
        "IMG_SHAPE = (IMG_WIDTH, IMG_HEIGHT, 3)\n",
        "base_model = tf.keras.applications.MobileNetV2(\n",
        "    input_shape=IMG_SHAPE,\n",
        "    include_top=False,\n",
        "    weights='imagenet'\n",
        ")"
      ],
      "execution_count": null,
      "outputs": []
    },
    {
      "cell_type": "code",
      "metadata": {
        "id": "YADAZtF__LeU",
        "colab_type": "code",
        "colab": {}
      },
      "source": [
        "# Freeze the base model\n",
        "base_model.trainable = False"
      ],
      "execution_count": null,
      "outputs": []
    },
    {
      "cell_type": "code",
      "metadata": {
        "id": "VXJ0BCta_TC7",
        "colab_type": "code",
        "colab": {}
      },
      "source": [
        "# Add a classification head\n",
        "model = tf.keras.Sequential([\n",
        "  base_model,\n",
        "  tf.keras.layers.GlobalAveragePooling2D(),\n",
        "  tf.keras.layers.Dense(42)\n",
        "])"
      ],
      "execution_count": null,
      "outputs": []
    },
    {
      "cell_type": "code",
      "metadata": {
        "id": "ryHdeiPFQ5AY",
        "colab_type": "code",
        "colab": {}
      },
      "source": [
        "# Compile the model\n",
        "model.compile(\n",
        "    optimizer='adam',\n",
        "    loss=tf.keras.losses.CategoricalCrossentropy(from_logits=True),\n",
        "    metrics=['accuracy']\n",
        ")"
      ],
      "execution_count": null,
      "outputs": []
    },
    {
      "cell_type": "code",
      "metadata": {
        "id": "tm5LoaVvQ6T3",
        "colab_type": "code",
        "colab": {}
      },
      "source": [
        "# Show summary of the model\n",
        "model.summary()"
      ],
      "execution_count": null,
      "outputs": []
    },
    {
      "cell_type": "code",
      "metadata": {
        "id": "nAaraloBg3Oe",
        "colab_type": "code",
        "colab": {}
      },
      "source": [
        "# Train the model\n",
        "history = model.fit(\n",
        "    train_generator,\n",
        "    steps_per_epoch=total_train//batch_size,\n",
        "    epochs=epochs,\n",
        "    validation_data=validation_generator,\n",
        "    validation_steps=total_validation//batch_size\n",
        ")"
      ],
      "execution_count": null,
      "outputs": []
    },
    {
      "cell_type": "code",
      "metadata": {
        "id": "wM8MnLHg8Vsq",
        "colab_type": "code",
        "colab": {}
      },
      "source": [
        "# Make prediction for test data\n",
        "predictions = np.argmax(model.predict(test_generator), axis=-1)"
      ],
      "execution_count": null,
      "outputs": []
    },
    {
      "cell_type": "code",
      "metadata": {
        "id": "X96e2-e_8Yge",
        "colab_type": "code",
        "colab": {}
      },
      "source": [
        "# Get filenames of test data\n",
        "filenames = test_generator.filenames"
      ],
      "execution_count": null,
      "outputs": []
    },
    {
      "cell_type": "code",
      "metadata": {
        "id": "YzPRmPLpFpzd",
        "colab_type": "code",
        "colab": {}
      },
      "source": [
        "# Get list of test images for submission\n",
        "test = pd.read_csv('dataset/test.csv')"
      ],
      "execution_count": null,
      "outputs": []
    },
    {
      "cell_type": "code",
      "metadata": {
        "id": "U9CKlAAD8dV2",
        "colab_type": "code",
        "colab": {}
      },
      "source": [
        "# Generate submission file\n",
        "submission=pd.DataFrame({\"filename\": filenames, \"category\": predictions})\n",
        "submission.category = submission.category.astype('str')\n",
        "submission['filename'] = submission.apply(lambda row: row[0][5:], axis=1)\n",
        "submission['category'] = submission.apply(lambda row: row[1].zfill(2), axis=1)\n",
        "submission = pd.merge(test[['filename']], submission, on='filename', how='left')\n",
        "submission.to_csv('submission.csv', index=False, header=True)"
      ],
      "execution_count": null,
      "outputs": []
    },
    {
      "cell_type": "code",
      "metadata": {
        "id": "R7Astv1685vW",
        "colab_type": "code",
        "colab": {}
      },
      "source": [
        "# Download submission file\n",
        "files.download('submission.csv') "
      ],
      "execution_count": null,
      "outputs": []
    }
  ]
}